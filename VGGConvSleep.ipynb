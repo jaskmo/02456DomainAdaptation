{
 "cells": [
  {
   "cell_type": "markdown",
   "metadata": {},
   "source": [
    "## Load dependencies"
   ]
  },
  {
   "cell_type": "code",
   "execution_count": null,
   "metadata": {
    "collapsed": true
   },
   "outputs": [],
   "source": [
    "from keras.applications.vgg16 import VGG16\n",
    "from keras.models import Model\n",
    "from keras.layers import Flatten, Dense, Dropout, Activation, Input\n",
    "from keras.optimizers import Adam\n",
    "from keras import regularizers\n",
    "from keras.callbacks import ReduceLROnPlateau, CSVLogger, EarlyStopping\n",
    "import pickle\n",
    "from ourUtils import *\n",
    "from sklearn.metrics import accuracy_score, classification_report, confusion_matrix\n",
    "\n",
    "import tensorflow as tf\n",
    "from keras.backend.tensorflow_backend import set_session"
   ]
  },
  {
   "cell_type": "markdown",
   "metadata": {},
   "source": [
    "### Initialize parameters"
   ]
  },
  {
   "cell_type": "code",
   "execution_count": null,
   "metadata": {
    "collapsed": true
   },
   "outputs": [],
   "source": [
    "config = tf.ConfigProto()\n",
    "config.gpu_options.per_process_gpu_memory_fraction = 0.8\n",
    "set_session(tf.Session(config=config))"
   ]
  },
  {
   "cell_type": "markdown",
   "metadata": {},
   "source": [
    "### Define network"
   ]
  },
  {
   "cell_type": "code",
   "execution_count": null,
   "metadata": {
    "collapsed": true
   },
   "outputs": [],
   "source": [
    "# Load the convolutional part of the VGG16 network \n",
    "vggConv = VGG16(weights='imagenet', include_top=False)\n",
    "\n",
    "# Input to network\n",
    "vggInput = Input(shape=(224, 224, 3), name='image_input')\n",
    "# Output of convolutional part\n",
    "output_vggConv = vggConv(vggInput)\n",
    "# Label predictive layers. Initialized using glorot (Xavier's), L2 regularization and dropout\n",
    "lpmF = Flatten()(output_vggConv)\n",
    "lpm1 = Dense(2048, activation='relu', kernel_initializer='glorot_normal', bias_initializer='glorot_normal',\n",
    "            kernel_regularizer=regularizers.l2(0.01))(lpmF)\n",
    "lpm1Dr = Dropout(0.5, seed=42)(lpm1)\n",
    "lpm2 = Dense(1024, activation='relu', kernel_initializer='glorot_normal', bias_initializer='glorot_normal',\n",
    "            kernel_regularizer=regularizers.l2(0.01))(lpm1Dr)\n",
    "lpm2Dr = Dropout(0.5, seed=42)(lpm2)\n",
    "lpm3 = Dense(5, activation=None, kernel_initializer='glorot_normal', bias_initializer='glorot_normal')(lpm2Dr)\n",
    "lpmS = Activation('softmax')(lpm3)\n",
    "# Make into single network\n",
    "vggConvSleep = Model(inputs=vggInput, outputs=lpmS)\n",
    "# If conv layers should not be trained: \n",
    "# Maybe this should be excluded\n",
    "for layer in vggConvSleep.layers[:2]:\n",
    "    layer.trainable = False\n",
    "\n",
    "# Optimizer\n",
    "optimize = Adam(lr=0.0001, beta_1=0.9, beta_2=0.999, epsilon=1e-08, decay=0.0)\n",
    "\n",
    "# Compile the model\n",
    "vggConvSleep.compile(loss='categorical_crossentropy', optimizer=optimize, metrics=['accuracy'])\n",
    "\n",
    "# Get model summary\n",
    "vggConvSleep.summary()"
   ]
  },
  {
   "cell_type": "markdown",
   "metadata": {},
   "source": [
    "## Define training mode"
   ]
  },
  {
   "cell_type": "code",
   "execution_count": null,
   "metadata": {
    "collapsed": true
   },
   "outputs": [],
   "source": [
    "training_mode = 'source'\n",
    "# training_mode = 'target'\n",
    "# training_mode = 'dann'"
   ]
  },
  {
   "cell_type": "markdown",
   "metadata": {},
   "source": [
    "## Load data"
   ]
  },
  {
   "cell_type": "code",
   "execution_count": null,
   "metadata": {
    "collapsed": true
   },
   "outputs": [],
   "source": [
    "# Number of subjects for each group\n",
    "num_subjects_physionet = 20\n",
    "num_subjects_hospital = 17\n",
    "\n",
    "# Load all data into memory\n",
    "# Change data path before running !!\n",
    "data_physionet = pickle.load(open('/home/jaskmo/Documents/DataCollection/sleep-edfx/PickleJar/dataOut.pkl','rb'))\n",
    "data_hospital = pickle.load(open('/home/jaskmo/Documents/DataCollection/sleep-edfx/PickleJar/hDataOut.pkl', 'rb'))\n",
    "random_perm_physionet = np.random.permutation(num_subjects_physionet)\n",
    "random_perm_hospital = np.random.permutation(num_subjects_hospital)\n",
    "idx_tmp_physionet = random_perm_physionet[range(num_subjects_physionet - 3)]\n",
    "idx_test_physionet = random_perm_physionet[(num_subjects_physionet - 3):num_subjects_physionet]\n",
    "idx_tmp_hospital = random_perm_hospital[range(num_subjects_hospital - 3)]\n",
    "idx_test_hospital = random_perm_hospital[(num_subjects_hospital- 3) : num_subjects_hospital]\n",
    "inputs_train_phys, targets_train_phys, inputs_val_phys, targets_val_phys, inputs_test_phys, targets_test_phys = get_data_complete(\n",
    "    idx_tmp_physionet, idx_test_physionet, data_physionet, 'physionet')\n",
    "inputs_train_hosp, targets_train_hosp, inputs_val_hosp, targets_val_hosp, inputs_test_hosp, targets_test_hosp = get_data_complete(\n",
    "    idx_tmp_hospital, idx_test_hospital, data_hospital, 'hospital')"
   ]
  },
  {
   "cell_type": "markdown",
   "metadata": {},
   "source": [
    "## Learning rate adaptation"
   ]
  },
  {
   "cell_type": "code",
   "execution_count": null,
   "metadata": {
    "collapsed": true
   },
   "outputs": [],
   "source": [
    "reduce_lr = ReduceLROnPlateau(monitor='val_loss', factor=0.3, patience=5, min_lr=0.000001, verbose=1)\n",
    "early_stop = EarlyStopping(monitor = 'val_loss', patience=7)"
   ]
  },
  {
   "cell_type": "markdown",
   "metadata": {},
   "source": [
    "## Fit model and save"
   ]
  },
  {
   "cell_type": "code",
   "execution_count": null,
   "metadata": {},
   "outputs": [],
   "source": [
    "# Fit model\n",
    "# Change Save paths before running !!\n",
    "if training_mode == 'source': # Training on source data from physionet\n",
    "    csv_logger = CSVLogger('models/sourceModel.log')\n",
    "    vggConvSleep.fit(x=inputs_train_phys, y=targets_train_phys, validation_data=(inputs_val_phys, targets_val_phys), \n",
    "                     batch_size=50, epochs=80, verbose=1, callbacks=[early_stop, reduce_lr, csv_logger], shuffle=True)\n",
    "elif training_mode == 'target': # Training on target data from hospital\n",
    "    csv_logger = CSVLogger('models/targetModel.log')\n",
    "    vggConvSleep.fit(x=inputs_train_hosp, y=targets_train_hosp, validation_data=(inputs_val_hosp, targets_val_hosp), \n",
    "                     batch_size=40, epochs=80, verbose=1, callbacks=[early_stop, reduce_lr, csv_logger], shuffle=True)\n",
    "# save model\n",
    "vggConvSleep.save(filepath='/home/jaskmo/Documents/programering/02456-deep-learning/Project/RES/kerasSource_dec21.h5')"
   ]
  },
  {
   "cell_type": "markdown",
   "metadata": {},
   "source": [
    "## Evaluate model on both source and target"
   ]
  },
  {
   "cell_type": "code",
   "execution_count": null,
   "metadata": {},
   "outputs": [],
   "source": [
    "#loss, metric = vggConvSleep.evaluate(x=inputs_test_phys, y=targets_test_phys, batch_size=50)\n",
    "target_names = ['W','N1','N2','N3','R']\n",
    "\n",
    "if training_mode == 'source': # Training on source data from physionet\n",
    "    targets_test_int = [np.where(r == 1)[0][0] for r in targets_test_phys]\n",
    "    y_pred = vggConvSleep.predict(inputs_test_phys)\n",
    "    y_pred2 = np.argmax(y_pred, axis = 1)\n",
    "    # Test accuracy:\n",
    "    acc = accuracy_score(targets_test_int, y_pred2)\n",
    "    print('Accuracy in this domain = ', acc)\n",
    "        \n",
    "    conf_mat = confusion_matrix(targets_test_int, y_pred2)\n",
    "    print(conf_mat)\n",
    "    # Per class metrics\n",
    "    class_report = classification_report(targets_test_int, y_pred2, target_names=target_names)\n",
    "    print(class_report)\n",
    "    \n",
    "    # Evaluate error on target data\n",
    "    _, metric = vggConvSleep.evaluate(x=inputs_test_hosp, y=targets_test_hosp, batch_size=50)\n",
    "    print('Accuracy on other domain = ', metric)\n",
    "    \n",
    "    \n",
    "elif training_mode == 'target': # Training on target data from hospital\n",
    "    # Convert from onehot\n",
    "    targets_test_int = [np.where(r == 1)[0][0] for r in targets_test_hosp]\n",
    "    y_pred = vggConvSleep.predict(inputs_test_hosp)\n",
    "    y_pred2 = np.argmax(y_pred, axis = 1)\n",
    "    # Test accuracy:\n",
    "    acc = accuracy_score(targets_test_int, y_pred2)\n",
    "    print('Accuracy in this domain = ', acc)\n",
    "    # Confusion matrix for target\n",
    "    conf_mat = confusion_matrix(targets_test_int, y_pred2)\n",
    "    print(conf_mat)\n",
    "    # Per class metrics\n",
    "    class_report = classification_report(targets_test_int, y_pred2, target_names=target_names)\n",
    "    print(class_report)\n",
    "    \n",
    "    # Evaluate error on source data\n",
    "    _, metric = vggConvSleep.evaluate(x=inputs_test_phys, y=targets_test_phys, batch_size=50)\n",
    "    print('Accuracy on other domain = ', metric)"
   ]
  }
 ],
 "metadata": {
  "kernelspec": {
   "display_name": "Python 3",
   "language": "python",
   "name": "python3"
  },
  "language_info": {
   "codemirror_mode": {
    "name": "ipython",
    "version": 3
   },
   "file_extension": ".py",
   "mimetype": "text/x-python",
   "name": "python",
   "nbconvert_exporter": "python",
   "pygments_lexer": "ipython3",
   "version": "3.5.2"
  }
 },
 "nbformat": 4,
 "nbformat_minor": 1
}
